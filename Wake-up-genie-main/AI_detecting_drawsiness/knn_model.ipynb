{
 "cells": [
  {
   "cell_type": "code",
   "execution_count": 1,
   "id": "ef0d2476",
   "metadata": {},
   "outputs": [],
   "source": [
    "import numpy as np\n",
    "import cv2\n",
    "import matplotlib.pyplot as plt\n",
    "from sklearn import metrics"
   ]
  },
  {
   "cell_type": "markdown",
   "id": "d27e5189",
   "metadata": {},
   "source": [
    "# KNN Algorithm"
   ]
  },
  {
   "cell_type": "code",
   "execution_count": 2,
   "id": "cf07820c",
   "metadata": {},
   "outputs": [],
   "source": [
    "knn = cv2.ml.KNearest_create()                                  # knn 알고리즘 객체 생성"
   ]
  },
  {
   "cell_type": "code",
   "execution_count": 3,
   "id": "8265fbad",
   "metadata": {},
   "outputs": [],
   "source": [
    "# 랜덤하게 많은 data point 생성\n",
    "# 'num_samples' : 생성할 data point의 갯수\n",
    "# 'num_features' : 각 data point의 feature 갯수\n",
    "\n",
    "def generate_data(num_samples, num_features=2):\n",
    "    data_size = (num_samples, num_features)\n",
    "    data = np.random.randint(0, 40, size=data_size)\n",
    "    return data.astype(np.float32)"
   ]
  },
  {
   "cell_type": "code",
   "execution_count": 4,
   "id": "4dfb8084",
   "metadata": {},
   "outputs": [],
   "source": [
    "# 사고를 예방할 수 있는 시간을 기준으로 졸음 운전 위험도(label)를 결정\n",
    "# 30FPS 카메라를 기준으로 100km/h로 달리는 차가 100m 이상 차간 거리를 유지하고 있는 경우\n",
    "# 사람의 반응 시간과 브레이크를 밟는데 걸리는 시간, 제동하는데 걸리는 시간을 고려해 1초정도의 시간이 걸린다고 가정\n",
    "# x : 눈을 뜨고 있던 시간(s), y : 눈을 감고 있는 시간(s)\n",
    "# y = x/2 + 15와 y = x - 15로 단계 구분 (단계가 높을수록 졸음 정도가 낮음)\n",
    "\n",
    "def classify_label(train_data):\n",
    "    labels = []\n",
    "    for data in train_data:\n",
    "        if data[1] < data[0] - 15:\n",
    "            labels.append(2)\n",
    "        elif data[1] >= (data[0] / 2 + 15):\n",
    "            labels.append(0)\n",
    "        else:\n",
    "            labels.append(1)\n",
    "    return np.array(labels)"
   ]
  },
  {
   "cell_type": "code",
   "execution_count": 5,
   "id": "c2dbd4f5",
   "metadata": {},
   "outputs": [],
   "source": [
    "# label별로 난수 배열을 나눔\n",
    "\n",
    "def binding_label(train_data, labels):\n",
    "    power = train_data[labels == 0]\n",
    "    nomal = train_data[labels == 1]\n",
    "    short = train_data[labels == 2]\n",
    "    return power, nomal, short"
   ]
  },
  {
   "cell_type": "code",
   "execution_count": 6,
   "id": "22762917",
   "metadata": {},
   "outputs": [],
   "source": [
    "# knn 알고리즘 학습 시작을 위한 함수, input data의 size를 parameter로 받음\n",
    "\n",
    "def start(sample_size=25):\n",
    "    train_data = generate_data(sample_size)\n",
    "    # print(\"train_data :\",train_data)\n",
    "    labels = classify_label(train_data)\n",
    "    power, nomal, short = binding_label(train_data, labels)\n",
    "    print(\"Return true if training is successful :\", knn.train(train_data, cv2.ml.ROW_SAMPLE, labels))  # data와 label을 전달해 모델을 학습\n",
    "    return power, nomal, short"
   ]
  },
  {
   "cell_type": "code",
   "execution_count": 7,
   "id": "27b35fa1",
   "metadata": {},
   "outputs": [],
   "source": [
    "# 학습한 knn 알고리즘에 따라 새로운 data의 label을 예측(분류)\n",
    "\n",
    "def run(new_data, power, nomal, short):\n",
    "    a = np.array([new_data])\n",
    "    b = a.astype(np.float32)\n",
    "    # plot_data(power, nomal, short)\n",
    "    ret, results, neighbor, dist = knn.findNearest(b, 5)  # k 값을 5로 주어 가장 가짜운 5개의 값중 가장 흔한 값으로 label 설정하도록 함\n",
    "    # print(\"Neighbor's label : \", neighbor)\n",
    "    print(\"predicted label : \", results)\n",
    "    # print(\"distance to neighbor : \", dist)\n",
    "    # print(\"what is this : \", ret)\n",
    "    # plt.plot(b[0,0], b[0,1], 'm*', markersize=14);\n",
    "    return int(results[0][0])                             # 각 input data에 대한 예측 결과를 return"
   ]
  },
  {
   "cell_type": "code",
   "execution_count": 8,
   "id": "3de4236c",
   "metadata": {},
   "outputs": [],
   "source": [
    "def plot_data(po, no, sh):\n",
    "    plt.figure(figsize=(10, 6))\n",
    "    plt.scatter(po[:, 0], po[:, 1], c='r', marker='s', s=50)\n",
    "    plt.scatter(no[:, 0], no[:, 1], c='g', marker='^', s=50)\n",
    "    plt.scatter(sh[:, 0], sh[:, 1], c='b', marker='o', s=50)\n",
    "    plt.xlabel('x is second for alarm term')\n",
    "    plt.ylabel('y is 10s for time to close eyes')"
   ]
  },
  {
   "cell_type": "code",
   "execution_count": 9,
   "id": "6514b855",
   "metadata": {},
   "outputs": [
    {
     "ename": "SyntaxError",
     "evalue": "invalid syntax (Temp/ipykernel_6052/620171631.py, line 6)",
     "output_type": "error",
     "traceback": [
      "\u001b[1;36m  File \u001b[1;32m\"C:\\Users\\User\\AppData\\Local\\Temp/ipykernel_6052/620171631.py\"\u001b[1;36m, line \u001b[1;32m6\u001b[0m\n\u001b[1;33m    A line below this comment is exactly same with above one.\u001b[0m\n\u001b[1;37m         ^\u001b[0m\n\u001b[1;31mSyntaxError\u001b[0m\u001b[1;31m:\u001b[0m invalid syntax\n"
     ]
    }
   ],
   "source": [
    "# knn 알고리즘의 정확도 평가\n",
    "\n",
    "def accuracy_score(acc_score, test_score):\n",
    "    \"\"\"Function for Accuracy Calculation\"\"\"\n",
    "    print(\"KNN Accuracy :\", np.sum(acc_score == test_score) / len(acc_score))\n",
    "    A line below this comment is exactly same with above one.\n",
    "    print(metrics.accuracy_score(acc_score, test_score))"
   ]
  },
  {
   "cell_type": "code",
   "execution_count": 10,
   "id": "480032dc",
   "metadata": {},
   "outputs": [],
   "source": [
    "# knn 알고리즘의 정밀도 평가 (ex. 모델이 1이라고 예측한 것 중 실제로 1인것)\n",
    "\n",
    "def precision_score(acc_score, test_score):\n",
    "    \"\"\"Function for Precision Calculation\"\"\"\n",
    "    true_two = np.sum((acc_score == 2) * (test_score == 2))\n",
    "    false_two = np.sum((acc_score != 2) * (test_score == 2))\n",
    "    precision_two = true_two / (true_two + false_two)\n",
    "    print(\"Precision for the label '2' :\", precision_two)\n",
    "\n",
    "    true_one = np.sum((acc_score == 1) * (test_score == 1))\n",
    "    false_one = np.sum((acc_score != 1) * (test_score == 1))\n",
    "    precision_one = true_one / (true_one + false_one)\n",
    "    print(\"Precision for the label '1' :\", precision_one)\n",
    "\n",
    "    true_zero = np.sum((acc_score == 0) * (test_score == 0))\n",
    "    false_zero = np.sum((acc_score != 0) * (test_score == 0))\n",
    "    precision_zero = true_zero / (true_zero + false_zero)\n",
    "    print(\"Precision for the label '0' :\", precision_zero)"
   ]
  },
  {
   "cell_type": "code",
   "execution_count": null,
   "id": "b146cb3a",
   "metadata": {},
   "outputs": [],
   "source": []
  }
 ],
 "metadata": {
  "kernelspec": {
   "display_name": "Python 3 (ipykernel)",
   "language": "python",
   "name": "python3"
  },
  "language_info": {
   "codemirror_mode": {
    "name": "ipython",
    "version": 3
   },
   "file_extension": ".py",
   "mimetype": "text/x-python",
   "name": "python",
   "nbconvert_exporter": "python",
   "pygments_lexer": "ipython3",
   "version": "3.7.11"
  }
 },
 "nbformat": 4,
 "nbformat_minor": 5
}
