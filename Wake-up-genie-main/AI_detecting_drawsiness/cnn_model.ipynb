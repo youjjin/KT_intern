{
 "cells": [
  {
   "cell_type": "code",
   "execution_count": 1,
   "id": "0ada7da7",
   "metadata": {},
   "outputs": [
    {
     "name": "stderr",
     "output_type": "stream",
     "text": [
      "C:\\Users\\User\\anaconda3\\lib\\site-packages\\tensorflow\\python\\framework\\dtypes.py:516: FutureWarning: Passing (type, 1) or '1type' as a synonym of type is deprecated; in a future version of numpy, it will be understood as (type, (1,)) / '(1,)type'.\n",
      "  _np_qint8 = np.dtype([(\"qint8\", np.int8, 1)])\n",
      "C:\\Users\\User\\anaconda3\\lib\\site-packages\\tensorflow\\python\\framework\\dtypes.py:517: FutureWarning: Passing (type, 1) or '1type' as a synonym of type is deprecated; in a future version of numpy, it will be understood as (type, (1,)) / '(1,)type'.\n",
      "  _np_quint8 = np.dtype([(\"quint8\", np.uint8, 1)])\n",
      "C:\\Users\\User\\anaconda3\\lib\\site-packages\\tensorflow\\python\\framework\\dtypes.py:518: FutureWarning: Passing (type, 1) or '1type' as a synonym of type is deprecated; in a future version of numpy, it will be understood as (type, (1,)) / '(1,)type'.\n",
      "  _np_qint16 = np.dtype([(\"qint16\", np.int16, 1)])\n",
      "C:\\Users\\User\\anaconda3\\lib\\site-packages\\tensorflow\\python\\framework\\dtypes.py:519: FutureWarning: Passing (type, 1) or '1type' as a synonym of type is deprecated; in a future version of numpy, it will be understood as (type, (1,)) / '(1,)type'.\n",
      "  _np_quint16 = np.dtype([(\"quint16\", np.uint16, 1)])\n",
      "C:\\Users\\User\\anaconda3\\lib\\site-packages\\tensorflow\\python\\framework\\dtypes.py:520: FutureWarning: Passing (type, 1) or '1type' as a synonym of type is deprecated; in a future version of numpy, it will be understood as (type, (1,)) / '(1,)type'.\n",
      "  _np_qint32 = np.dtype([(\"qint32\", np.int32, 1)])\n",
      "C:\\Users\\User\\anaconda3\\lib\\site-packages\\tensorflow\\python\\framework\\dtypes.py:525: FutureWarning: Passing (type, 1) or '1type' as a synonym of type is deprecated; in a future version of numpy, it will be understood as (type, (1,)) / '(1,)type'.\n",
      "  np_resource = np.dtype([(\"resource\", np.ubyte, 1)])\n",
      "C:\\Users\\User\\anaconda3\\lib\\site-packages\\tensorboard\\compat\\tensorflow_stub\\dtypes.py:541: FutureWarning: Passing (type, 1) or '1type' as a synonym of type is deprecated; in a future version of numpy, it will be understood as (type, (1,)) / '(1,)type'.\n",
      "  _np_qint8 = np.dtype([(\"qint8\", np.int8, 1)])\n",
      "C:\\Users\\User\\anaconda3\\lib\\site-packages\\tensorboard\\compat\\tensorflow_stub\\dtypes.py:542: FutureWarning: Passing (type, 1) or '1type' as a synonym of type is deprecated; in a future version of numpy, it will be understood as (type, (1,)) / '(1,)type'.\n",
      "  _np_quint8 = np.dtype([(\"quint8\", np.uint8, 1)])\n",
      "C:\\Users\\User\\anaconda3\\lib\\site-packages\\tensorboard\\compat\\tensorflow_stub\\dtypes.py:543: FutureWarning: Passing (type, 1) or '1type' as a synonym of type is deprecated; in a future version of numpy, it will be understood as (type, (1,)) / '(1,)type'.\n",
      "  _np_qint16 = np.dtype([(\"qint16\", np.int16, 1)])\n",
      "C:\\Users\\User\\anaconda3\\lib\\site-packages\\tensorboard\\compat\\tensorflow_stub\\dtypes.py:544: FutureWarning: Passing (type, 1) or '1type' as a synonym of type is deprecated; in a future version of numpy, it will be understood as (type, (1,)) / '(1,)type'.\n",
      "  _np_quint16 = np.dtype([(\"quint16\", np.uint16, 1)])\n",
      "C:\\Users\\User\\anaconda3\\lib\\site-packages\\tensorboard\\compat\\tensorflow_stub\\dtypes.py:545: FutureWarning: Passing (type, 1) or '1type' as a synonym of type is deprecated; in a future version of numpy, it will be understood as (type, (1,)) / '(1,)type'.\n",
      "  _np_qint32 = np.dtype([(\"qint32\", np.int32, 1)])\n",
      "C:\\Users\\User\\anaconda3\\lib\\site-packages\\tensorboard\\compat\\tensorflow_stub\\dtypes.py:550: FutureWarning: Passing (type, 1) or '1type' as a synonym of type is deprecated; in a future version of numpy, it will be understood as (type, (1,)) / '(1,)type'.\n",
      "  np_resource = np.dtype([(\"resource\", np.ubyte, 1)])\n"
     ]
    }
   ],
   "source": [
    "import datetime\n",
    "import numpy as np\n",
    "import matplotlib.pyplot as plt\n",
    "from helpers import *\n",
    "from tensorflow import keras"
   ]
  },
  {
   "cell_type": "markdown",
   "id": "985563c6",
   "metadata": {},
   "source": [
    "# Load Dataset"
   ]
  },
  {
   "cell_type": "code",
   "execution_count": 2,
   "id": "e8d8ee46",
   "metadata": {},
   "outputs": [],
   "source": [
    "# train data와 validation data 로드\n",
    "x_train = np.load('../data/x_train.npy').astype(np.float32)\n",
    "y_train = np.load('../data/y_train.npy').astype(np.float32)\n",
    "x_val = np.load('../data/x_val.npy').astype(np.float32)\n",
    "y_val = np.load('../data/y_val.npy').astype(np.float32)"
   ]
  },
  {
   "cell_type": "code",
   "execution_count": 3,
   "id": "30feeb28",
   "metadata": {},
   "outputs": [
    {
     "name": "stdout",
     "output_type": "stream",
     "text": [
      "(2647, 26, 34, 1) (2647, 1)\n",
      "(295, 26, 34, 1) (295, 1)\n"
     ]
    }
   ],
   "source": [
    "# label : 눈을 감고 있는 이미지 = 1 / 눈을 뜨고 있는 이미지 = 0\n",
    "print(x_train.shape, y_train.shape) #2647장 * 26 * 34 * 1 / 2647 * 1\n",
    "print(x_val.shape, y_val.shape) #295장 * 26 * 34  * 1 / 295 * 1"
   ]
  },
  {
   "cell_type": "markdown",
   "id": "5e86b792",
   "metadata": {},
   "source": [
    "# Data Augumentation"
   ]
  },
  {
   "cell_type": "code",
   "execution_count": 4,
   "id": "857d1a6d",
   "metadata": {},
   "outputs": [],
   "source": [
    "# 데이터 증식을 위해 사용할 ImageDataGenerator 객체 생성\n",
    "# training data\n",
    "# 정확도를 높이기 위해 랜덤하게 이미지를 리스케일링\n",
    "train_datagen = keras.preprocessing.image.ImageDataGenerator(\n",
    "    rescale=1./255,             # 크기 재조절 (픽셀값을 0~1사이 값으로 변경)\n",
    "    rotation_range=10,          # 무작위 회전\n",
    "    width_shift_range=0.2,      # 이미지 수평 방향 이동\n",
    "    height_shift_range=0.2,     # 이미지 수직 방향 이동\n",
    "    shear_range=0.2             # 밀림 강도\n",
    ")\n",
    "\n",
    "\n",
    "# validation data\n",
    "# 따로 데이터 스케일과정이 필요없으므로 픽셀값만 0~1사이의 값으로 변경\n",
    "val_datagen = keras.preprocessing.image.ImageDataGenerator(rescale=1./255)\n",
    "\n",
    "\n",
    "# 이미지 변형(batch size, shuffle 여부 정의)\n",
    "# training data\n",
    "train_generator = train_datagen.flow(\n",
    "    x=x_train, y=y_train,\n",
    "    batch_size=32,\n",
    "    shuffle=True\n",
    ")\n",
    "\n",
    "#validation data\n",
    "val_generator = val_datagen.flow(\n",
    "    x=x_val, y=y_val,\n",
    "    batch_size=32,\n",
    "    shuffle=False\n",
    ")\n"
   ]
  },
  {
   "cell_type": "markdown",
   "id": "82618202",
   "metadata": {},
   "source": [
    "# Build CNN Model"
   ]
  },
  {
   "cell_type": "code",
   "execution_count": 5,
   "id": "b130d8e9",
   "metadata": {},
   "outputs": [
    {
     "name": "stdout",
     "output_type": "stream",
     "text": [
      "WARNING:tensorflow:From C:\\Users\\User\\anaconda3\\lib\\site-packages\\tensorflow\\python\\ops\\init_ops.py:1251: calling VarianceScaling.__init__ (from tensorflow.python.ops.init_ops) with dtype is deprecated and will be removed in a future version.\n",
      "Instructions for updating:\n",
      "Call initializer instance with the dtype argument instead of passing it to the constructor\n",
      "WARNING:tensorflow:From C:\\Users\\User\\anaconda3\\lib\\site-packages\\tensorflow\\python\\ops\\nn_impl.py:180: add_dispatch_support.<locals>.wrapper (from tensorflow.python.ops.array_ops) is deprecated and will be removed in a future version.\n",
      "Instructions for updating:\n",
      "Use tf.where in 2.0, which has the same broadcast rule as np.where\n",
      "Model: \"model\"\n",
      "_________________________________________________________________\n",
      "Layer (type)                 Output Shape              Param #   \n",
      "=================================================================\n",
      "input_1 (InputLayer)         [(None, 26, 34, 1)]       0         \n",
      "_________________________________________________________________\n",
      "conv2d (Conv2D)              (None, 26, 34, 16)        160       \n",
      "_________________________________________________________________\n",
      "max_pooling2d (MaxPooling2D) (None, 13, 17, 16)        0         \n",
      "_________________________________________________________________\n",
      "conv2d_1 (Conv2D)            (None, 13, 17, 32)        4640      \n",
      "_________________________________________________________________\n",
      "max_pooling2d_1 (MaxPooling2 (None, 6, 8, 32)          0         \n",
      "_________________________________________________________________\n",
      "conv2d_2 (Conv2D)            (None, 6, 8, 64)          18496     \n",
      "_________________________________________________________________\n",
      "max_pooling2d_2 (MaxPooling2 (None, 3, 4, 64)          0         \n",
      "_________________________________________________________________\n",
      "conv2d_3 (Conv2D)            (None, 3, 4, 128)         73856     \n",
      "_________________________________________________________________\n",
      "max_pooling2d_3 (MaxPooling2 (None, 1, 2, 128)         0         \n",
      "_________________________________________________________________\n",
      "flatten (Flatten)            (None, 256)               0         \n",
      "_________________________________________________________________\n",
      "dense (Dense)                (None, 1024)              263168    \n",
      "_________________________________________________________________\n",
      "activation (Activation)      (None, 1024)              0         \n",
      "_________________________________________________________________\n",
      "dense_1 (Dense)              (None, 1)                 1025      \n",
      "_________________________________________________________________\n",
      "activation_1 (Activation)    (None, 1)                 0         \n",
      "=================================================================\n",
      "Total params: 361,345\n",
      "Trainable params: 361,345\n",
      "Non-trainable params: 0\n",
      "_________________________________________________________________\n"
     ]
    }
   ],
   "source": [
    "# layer는 convolution layer 4개, pooling layer 4개 이후 fully connected layer로 구성\n",
    "# 0~1사이의 값으로 구성된 26*34*1의 픽셀 값들을 입력으로 받아 이미지가 opened eye(1) 인지 closed eye(0)인지 분류\n",
    "inputs = keras.layers.Input(shape=(26, 34, 1))\n",
    "\n",
    "net = keras.layers.Conv2D(16, kernel_size=3, strides=1, padding='same', activation='relu')(inputs)\n",
    "net = keras.layers.MaxPooling2D(pool_size=2)(net)\n",
    "\n",
    "net = keras.layers.Conv2D(32, kernel_size=3, strides=1, padding='same', activation='relu')(net)\n",
    "net = keras.layers.MaxPooling2D(pool_size=2)(net)\n",
    "\n",
    "net = keras.layers.Conv2D(64, kernel_size=3, strides=1, padding='same', activation='relu')(net)\n",
    "net = keras.layers.MaxPooling2D(pool_size=2)(net)\n",
    "\n",
    "net = keras.layers.Conv2D(128, kernel_size=3, strides=1, padding='same', activation='relu')(net)\n",
    "net = keras.layers.MaxPooling2D(pool_size=2)(net)\n",
    "\n",
    "net = keras.layers.Flatten()(net)                           # convolution layer와 pooling layer를 통과하며 특징을 1차원으로 변환\n",
    "\n",
    "net = keras.layers.Dense(1024)(net)                         # fully connected layer\n",
    "net = keras.layers.Activation('relu')(net)\n",
    "net = keras.layers.Dense(1)(net)                            # 출력을 하나로 모아줌\n",
    "outputs = keras.layers.Activation('sigmoid')(net)           # activation function으로 sigmoid를 사용해 0~1사이의 값으로 분류\n",
    "\n",
    "model = keras.models.Model(inputs=inputs, outputs=outputs)  # 모델의 input layer과 ouput layer을 결정\n",
    "\n",
    "model.compile(optimizer='adam', loss='binary_crossentropy', metrics=['acc'])    # 모델 학습 방식 설정 (optimizer, loss function, metric(평가지표)) (모델을 빌드하고 학습하기 전에 컴파일하는 것)\n",
    "\n",
    "model.summary()                                             # 모델의 정보 출력"
   ]
  },
  {
   "cell_type": "markdown",
   "id": "bbe5014a",
   "metadata": {},
   "source": [
    "# Train Model"
   ]
  },
  {
   "cell_type": "code",
   "execution_count": 6,
   "id": "1a79372a",
   "metadata": {
    "scrolled": true
   },
   "outputs": [
    {
     "name": "stdout",
     "output_type": "stream",
     "text": [
      "Epoch 1/50\n",
      "82/82 [============================>.] - ETA: 0s - loss: 0.5057 - acc: 0.7208\n",
      "Epoch 00001: val_acc improved from -inf to 0.89153, saving model to ../models/2022_01_06_16_31_20.h5\n",
      "83/82 [==============================] - 4s 53ms/step - loss: 0.5046 - acc: 0.7219 - val_loss: 0.2830 - val_acc: 0.8915\n",
      "Epoch 2/50\n",
      "82/82 [============================>.] - ETA: 0s - loss: 0.2686 - acc: 0.9013\n",
      "Epoch 00002: val_acc improved from 0.89153 to 0.95254, saving model to ../models/2022_01_06_16_31_20.h5\n",
      "83/82 [==============================] - 3s 33ms/step - loss: 0.2673 - acc: 0.9022 - val_loss: 0.1635 - val_acc: 0.9525\n",
      "Epoch 3/50\n",
      "82/82 [============================>.] - ETA: 0s - loss: 0.1874 - acc: 0.9293\n",
      "Epoch 00003: val_acc improved from 0.95254 to 0.96610, saving model to ../models/2022_01_06_16_31_20.h5\n",
      "83/82 [==============================] - 3s 35ms/step - loss: 0.1874 - acc: 0.9286 - val_loss: 0.1335 - val_acc: 0.9661\n",
      "Epoch 4/50\n",
      "81/82 [============================>.] - ETA: 0s - loss: 0.1429 - acc: 0.9508\n",
      "Epoch 00004: val_acc improved from 0.96610 to 0.97966, saving model to ../models/2022_01_06_16_31_20.h5\n",
      "83/82 [==============================] - 3s 33ms/step - loss: 0.1428 - acc: 0.9509 - val_loss: 0.0707 - val_acc: 0.9797\n",
      "Epoch 5/50\n",
      "81/82 [============================>.] - ETA: 0s - loss: 0.1378 - acc: 0.9543\n",
      "Epoch 00005: val_acc did not improve from 0.97966\n",
      "83/82 [==============================] - 3s 35ms/step - loss: 0.1421 - acc: 0.9528 - val_loss: 0.1601 - val_acc: 0.9492\n",
      "Epoch 6/50\n",
      "81/82 [============================>.] - ETA: 0s - loss: 0.1353 - acc: 0.9524\n",
      "Epoch 00006: val_acc did not improve from 0.97966\n",
      "83/82 [==============================] - 3s 34ms/step - loss: 0.1345 - acc: 0.9520 - val_loss: 0.1561 - val_acc: 0.9593\n",
      "Epoch 7/50\n",
      "82/82 [============================>.] - ETA: 0s - loss: 0.1080 - acc: 0.9621\n",
      "Epoch 00007: val_acc improved from 0.97966 to 0.98644, saving model to ../models/2022_01_06_16_31_20.h5\n",
      "83/82 [==============================] - 3s 32ms/step - loss: 0.1093 - acc: 0.9618 - val_loss: 0.0694 - val_acc: 0.9864\n",
      "Epoch 8/50\n",
      "82/82 [============================>.] - ETA: 0s - loss: 0.0868 - acc: 0.9686- ETA: 1s \n",
      "Epoch 00008: val_acc did not improve from 0.98644\n",
      "83/82 [==============================] - 3s 31ms/step - loss: 0.0860 - acc: 0.9690 - val_loss: 0.0626 - val_acc: 0.9797\n",
      "Epoch 9/50\n",
      "82/82 [============================>.] - ETA: 0s - loss: 0.0942 - acc: 0.9717\n",
      "Epoch 00009: val_acc did not improve from 0.98644\n",
      "83/82 [==============================] - 3s 35ms/step - loss: 0.0935 - acc: 0.9720 - val_loss: 0.0652 - val_acc: 0.9864\n",
      "Epoch 10/50\n",
      "81/82 [============================>.] - ETA: 0s - loss: 0.0772 - acc: 0.9783\n",
      "Epoch 00010: val_acc did not improve from 0.98644\n",
      "83/82 [==============================] - 3s 32ms/step - loss: 0.0757 - acc: 0.9788 - val_loss: 0.0625 - val_acc: 0.9864\n",
      "Epoch 11/50\n",
      "81/82 [============================>.] - ETA: 0s - loss: 0.0729 - acc: 0.9752\n",
      "Epoch 00011: val_acc did not improve from 0.98644\n",
      "83/82 [==============================] - 3s 35ms/step - loss: 0.0719 - acc: 0.9754 - val_loss: 0.0819 - val_acc: 0.9797\n",
      "Epoch 12/50\n",
      "82/82 [============================>.] - ETA: 0s - loss: 0.0562 - acc: 0.9816\n",
      "Epoch 00012: val_acc did not improve from 0.98644\n",
      "83/82 [==============================] - 3s 34ms/step - loss: 0.0572 - acc: 0.9811 - val_loss: 0.0645 - val_acc: 0.9797\n",
      "Epoch 13/50\n",
      "82/82 [============================>.] - ETA: 0s - loss: 0.0549 - acc: 0.9801- ETA: 0s - loss: 0.0545 - acc: 0.980\n",
      "Epoch 00013: val_acc did not improve from 0.98644\n",
      "83/82 [==============================] - 3s 32ms/step - loss: 0.0547 - acc: 0.9800 - val_loss: 0.0659 - val_acc: 0.9831\n",
      "Epoch 14/50\n",
      "82/82 [============================>.] - ETA: 0s - loss: 0.0535 - acc: 0.9843\n",
      "Epoch 00014: val_acc did not improve from 0.98644\n",
      "83/82 [==============================] - 3s 33ms/step - loss: 0.0537 - acc: 0.9841 - val_loss: 0.1087 - val_acc: 0.9763\n",
      "Epoch 15/50\n",
      "81/82 [============================>.] - ETA: 0s - loss: 0.0561 - acc: 0.9826\n",
      "Epoch 00015: val_acc did not improve from 0.98644\n",
      "83/82 [==============================] - 3s 34ms/step - loss: 0.0572 - acc: 0.9819 - val_loss: 0.1145 - val_acc: 0.9695\n",
      "Epoch 16/50\n",
      "82/82 [============================>.] - ETA: 0s - loss: 0.0560 - acc: 0.9828\n",
      "Epoch 00016: val_acc did not improve from 0.98644\n",
      "83/82 [==============================] - 3s 30ms/step - loss: 0.0558 - acc: 0.9826 - val_loss: 0.0876 - val_acc: 0.9729\n",
      "Epoch 17/50\n",
      "82/82 [============================>.] - ETA: 0s - loss: 0.0507 - acc: 0.9855\n",
      "Epoch 00017: val_acc did not improve from 0.98644\n",
      "\n",
      "Epoch 00017: ReduceLROnPlateau reducing learning rate to 0.00020000000949949026.\n",
      "83/82 [==============================] - 3s 35ms/step - loss: 0.0502 - acc: 0.9856 - val_loss: 0.0658 - val_acc: 0.9763\n",
      "Epoch 18/50\n",
      "81/82 [============================>.] - ETA: 0s - loss: 0.0350 - acc: 0.9895- ETA: 0s - loss: 0.0325 - acc: 0.\n",
      "Epoch 00018: val_acc improved from 0.98644 to 0.98983, saving model to ../models/2022_01_06_16_31_20.h5\n",
      "83/82 [==============================] - 3s 34ms/step - loss: 0.0346 - acc: 0.9898 - val_loss: 0.0403 - val_acc: 0.9898\n",
      "Epoch 19/50\n",
      "81/82 [============================>.] - ETA: 0s - loss: 0.0314 - acc: 0.9919\n",
      "Epoch 00019: val_acc did not improve from 0.98983\n",
      "83/82 [==============================] - 3s 32ms/step - loss: 0.0308 - acc: 0.9921 - val_loss: 0.0482 - val_acc: 0.9831\n",
      "Epoch 20/50\n",
      "82/82 [============================>.] - ETA: 0s - loss: 0.0320 - acc: 0.9916\n",
      "Epoch 00020: val_acc did not improve from 0.98983\n",
      "83/82 [==============================] - 3s 35ms/step - loss: 0.0322 - acc: 0.9913 - val_loss: 0.0441 - val_acc: 0.9864\n",
      "Epoch 21/50\n",
      "81/82 [============================>.] - ETA: 0s - loss: 0.0308 - acc: 0.9919- ETA: 0s - loss: 0.0319 - acc: 0.99\n",
      "Epoch 00021: val_acc did not improve from 0.98983\n",
      "83/82 [==============================] - 3s 33ms/step - loss: 0.0304 - acc: 0.9921 - val_loss: 0.0342 - val_acc: 0.9898\n",
      "Epoch 22/50\n",
      "81/82 [============================>.] - ETA: 0s - loss: 0.0292 - acc: 0.9907\n",
      "Epoch 00022: val_acc improved from 0.98983 to 0.99322, saving model to ../models/2022_01_06_16_31_20.h5\n",
      "83/82 [==============================] - 3s 33ms/step - loss: 0.0303 - acc: 0.9906 - val_loss: 0.0324 - val_acc: 0.9932\n",
      "Epoch 23/50\n",
      "82/82 [============================>.] - ETA: 0s - loss: 0.0242 - acc: 0.9924\n",
      "Epoch 00023: val_acc did not improve from 0.99322\n",
      "83/82 [==============================] - 3s 34ms/step - loss: 0.0241 - acc: 0.9924 - val_loss: 0.0432 - val_acc: 0.9898\n",
      "Epoch 24/50\n",
      "82/82 [============================>.] - ETA: 0s - loss: 0.0248 - acc: 0.9924\n",
      "Epoch 00024: val_acc did not improve from 0.99322\n",
      "83/82 [==============================] - 3s 35ms/step - loss: 0.0246 - acc: 0.9924 - val_loss: 0.0345 - val_acc: 0.9864\n",
      "Epoch 25/50\n",
      "81/82 [============================>.] - ETA: 0s - loss: 0.0260 - acc: 0.9903\n",
      "Epoch 00025: val_acc did not improve from 0.99322\n",
      "83/82 [==============================] - 3s 32ms/step - loss: 0.0267 - acc: 0.9902 - val_loss: 0.0377 - val_acc: 0.9898\n",
      "Epoch 26/50\n",
      "81/82 [============================>.] - ETA: 0s - loss: 0.0216 - acc: 0.9938\n",
      "Epoch 00026: val_acc did not improve from 0.99322\n",
      "83/82 [==============================] - 3s 32ms/step - loss: 0.0212 - acc: 0.9940 - val_loss: 0.0377 - val_acc: 0.9898\n",
      "Epoch 27/50\n",
      "81/82 [============================>.] - ETA: 0s - loss: 0.0251 - acc: 0.9923\n",
      "Epoch 00027: val_acc did not improve from 0.99322\n",
      "83/82 [==============================] - 2s 28ms/step - loss: 0.0247 - acc: 0.9924 - val_loss: 0.0421 - val_acc: 0.9864\n",
      "Epoch 28/50\n",
      "82/82 [============================>.] - ETA: 0s - loss: 0.0247 - acc: 0.9920\n",
      "Epoch 00028: val_acc did not improve from 0.99322\n",
      "83/82 [==============================] - 2s 29ms/step - loss: 0.0244 - acc: 0.9921 - val_loss: 0.0385 - val_acc: 0.9898\n",
      "Epoch 29/50\n",
      "81/82 [============================>.] - ETA: 0s - loss: 0.0227 - acc: 0.9919\n",
      "Epoch 00029: val_acc did not improve from 0.99322\n",
      "83/82 [==============================] - 3s 33ms/step - loss: 0.0223 - acc: 0.9921 - val_loss: 0.0392 - val_acc: 0.9898\n",
      "Epoch 30/50\n"
     ]
    },
    {
     "name": "stdout",
     "output_type": "stream",
     "text": [
      "81/82 [============================>.] - ETA: 0s - loss: 0.0245 - acc: 0.9926\n",
      "Epoch 00030: val_acc did not improve from 0.99322\n",
      "83/82 [==============================] - 3s 33ms/step - loss: 0.0257 - acc: 0.9921 - val_loss: 0.0396 - val_acc: 0.9864\n",
      "Epoch 31/50\n",
      "81/82 [============================>.] - ETA: 0s - loss: 0.0247 - acc: 0.9930\n",
      "Epoch 00031: val_acc did not improve from 0.99322\n",
      "83/82 [==============================] - 3s 34ms/step - loss: 0.0252 - acc: 0.9928 - val_loss: 0.0384 - val_acc: 0.9864\n",
      "Epoch 32/50\n",
      "82/82 [============================>.] - ETA: 0s - loss: 0.0208 - acc: 0.9924\n",
      "Epoch 00032: val_acc did not improve from 0.99322\n",
      "\n",
      "Epoch 00032: ReduceLROnPlateau reducing learning rate to 4.0000001899898055e-05.\n",
      "83/82 [==============================] - 3s 37ms/step - loss: 0.0206 - acc: 0.9924 - val_loss: 0.0403 - val_acc: 0.9864\n",
      "Epoch 33/50\n",
      "81/82 [============================>.] - ETA: 0s - loss: 0.0140 - acc: 0.9954- ETA:\n",
      "Epoch 00033: val_acc did not improve from 0.99322\n",
      "83/82 [==============================] - 3s 33ms/step - loss: 0.0138 - acc: 0.9955 - val_loss: 0.0387 - val_acc: 0.9864\n",
      "Epoch 34/50\n",
      "82/82 [============================>.] - ETA: 0s - loss: 0.0187 - acc: 0.9946\n",
      "Epoch 00034: val_acc did not improve from 0.99322\n",
      "83/82 [==============================] - 3s 34ms/step - loss: 0.0187 - acc: 0.9947 - val_loss: 0.0365 - val_acc: 0.9864\n",
      "Epoch 35/50\n",
      "82/82 [============================>.] - ETA: 0s - loss: 0.0152 - acc: 0.9962\n",
      "Epoch 00035: val_acc did not improve from 0.99322\n",
      "83/82 [==============================] - 3s 34ms/step - loss: 0.0150 - acc: 0.9962 - val_loss: 0.0371 - val_acc: 0.9864\n",
      "Epoch 36/50\n",
      "82/82 [============================>.] - ETA: 0s - loss: 0.0120 - acc: 0.9966\n",
      "Epoch 00036: val_acc did not improve from 0.99322\n",
      "83/82 [==============================] - 2s 26ms/step - loss: 0.0119 - acc: 0.9966 - val_loss: 0.0396 - val_acc: 0.9864\n",
      "Epoch 37/50\n",
      "81/82 [============================>.] - ETA: 0s - loss: 0.0146 - acc: 0.9961\n",
      "Epoch 00037: val_acc did not improve from 0.99322\n",
      "83/82 [==============================] - 3s 32ms/step - loss: 0.0146 - acc: 0.9962 - val_loss: 0.0396 - val_acc: 0.9864\n",
      "Epoch 38/50\n",
      "82/82 [============================>.] - ETA: 0s - loss: 0.0128 - acc: 0.9966\n",
      "Epoch 00038: val_acc did not improve from 0.99322\n",
      "83/82 [==============================] - 3s 33ms/step - loss: 0.0127 - acc: 0.9966 - val_loss: 0.0334 - val_acc: 0.9898\n",
      "Epoch 39/50\n",
      "82/82 [============================>.] - ETA: 0s - loss: 0.0176 - acc: 0.9939\n",
      "Epoch 00039: val_acc did not improve from 0.99322\n",
      "83/82 [==============================] - 3s 34ms/step - loss: 0.0175 - acc: 0.9940 - val_loss: 0.0401 - val_acc: 0.9864\n",
      "Epoch 40/50\n",
      "81/82 [============================>.] - ETA: 0s - loss: 0.0175 - acc: 0.9954\n",
      "Epoch 00040: val_acc did not improve from 0.99322\n",
      "83/82 [==============================] - 3s 33ms/step - loss: 0.0172 - acc: 0.9955 - val_loss: 0.0370 - val_acc: 0.9864\n",
      "Epoch 41/50\n",
      "81/82 [============================>.] - ETA: 0s - loss: 0.0160 - acc: 0.9950\n",
      "Epoch 00041: val_acc did not improve from 0.99322\n",
      "83/82 [==============================] - 3s 35ms/step - loss: 0.0157 - acc: 0.9951 - val_loss: 0.0398 - val_acc: 0.9831\n",
      "Epoch 42/50\n",
      "81/82 [============================>.] - ETA: 0s - loss: 0.0177 - acc: 0.9950\n",
      "Epoch 00042: val_acc did not improve from 0.99322\n",
      "\n",
      "Epoch 00042: ReduceLROnPlateau reducing learning rate to 1e-05.\n",
      "83/82 [==============================] - 3s 34ms/step - loss: 0.0183 - acc: 0.9947 - val_loss: 0.0362 - val_acc: 0.9864\n",
      "Epoch 43/50\n",
      "81/82 [============================>.] - ETA: 0s - loss: 0.0181 - acc: 0.9938\n",
      "Epoch 00043: val_acc did not improve from 0.99322\n",
      "83/82 [==============================] - 3s 34ms/step - loss: 0.0179 - acc: 0.9940 - val_loss: 0.0361 - val_acc: 0.9864\n",
      "Epoch 44/50\n",
      "81/82 [============================>.] - ETA: 0s - loss: 0.0112 - acc: 0.9973\n",
      "Epoch 00044: val_acc did not improve from 0.99322\n",
      "83/82 [==============================] - 3s 34ms/step - loss: 0.0110 - acc: 0.9974 - val_loss: 0.0369 - val_acc: 0.9864\n",
      "Epoch 45/50\n",
      "81/82 [============================>.] - ETA: 0s - loss: 0.0160 - acc: 0.9954\n",
      "Epoch 00045: val_acc did not improve from 0.99322\n",
      "83/82 [==============================] - 3s 34ms/step - loss: 0.0163 - acc: 0.9951 - val_loss: 0.0359 - val_acc: 0.9898\n",
      "Epoch 46/50\n",
      "82/82 [============================>.] - ETA: 0s - loss: 0.0156 - acc: 0.9950\n",
      "Epoch 00046: val_acc did not improve from 0.99322\n",
      "83/82 [==============================] - 3s 33ms/step - loss: 0.0167 - acc: 0.9947 - val_loss: 0.0355 - val_acc: 0.9898\n",
      "Epoch 47/50\n",
      "81/82 [============================>.] - ETA: 0s - loss: 0.0137 - acc: 0.9965\n",
      "Epoch 00047: val_acc did not improve from 0.99322\n",
      "83/82 [==============================] - 3s 33ms/step - loss: 0.0135 - acc: 0.9966 - val_loss: 0.0364 - val_acc: 0.9898\n",
      "Epoch 48/50\n",
      "82/82 [============================>.] - ETA: 0s - loss: 0.0195 - acc: 0.9939\n",
      "Epoch 00048: val_acc did not improve from 0.99322\n",
      "83/82 [==============================] - 3s 33ms/step - loss: 0.0193 - acc: 0.9940 - val_loss: 0.0364 - val_acc: 0.9864\n",
      "Epoch 49/50\n",
      "81/82 [============================>.] - ETA: 0s - loss: 0.0165 - acc: 0.9950\n",
      "Epoch 00049: val_acc did not improve from 0.99322\n",
      "83/82 [==============================] - 3s 34ms/step - loss: 0.0164 - acc: 0.9951 - val_loss: 0.0352 - val_acc: 0.9898\n",
      "Epoch 50/50\n",
      "81/82 [============================>.] - ETA: 0s - loss: 0.0150 - acc: 0.9961\n",
      "Epoch 00050: val_acc did not improve from 0.99322\n",
      "83/82 [==============================] - 2s 26ms/step - loss: 0.0148 - acc: 0.9962 - val_loss: 0.0352 - val_acc: 0.9898\n"
     ]
    },
    {
     "data": {
      "text/plain": [
       "<tensorflow.python.keras.callbacks.History at 0x20ac6e77ac8>"
      ]
     },
     "execution_count": 6,
     "metadata": {},
     "output_type": "execute_result"
    }
   ],
   "source": [
    "start_time = datetime.datetime.now().strftime('%Y_%m_%d_%H_%M_%S')     # 모델을 학습한 시간\n",
    "\n",
    "model.fit_generator(\n",
    "    # 주어진 epoch=50 만큼 모델 학습\n",
    "    train_generator, epochs=50, steps_per_epoch=2649/32, validation_steps=295/32, validation_data=val_generator,\n",
    "    # stpes_per_epoch : 한 번 epoch 돌 때 데이터를 몇 번 볼 것인가\n",
    "    # validation_steps : 한 번 epoch 돌고 난 후 validation accuracy를 측정할 때 validation data를 몇번 볼 것인가\n",
    "    callbacks=[\n",
    "        keras.callbacks.ModelCheckpoint('../models/%s.h5' % (start_time), monitor='val_acc', save_best_only=True, mode='max', verbose=1),  # 파일명을 모델을 학습하는 시간으로 하고 가장 accuracy가 좋은 모델만 저장\n",
    "        keras.callbacks.ReduceLROnPlateau(monitor='val_acc', factor=0.2, patience=10, verbose=1, mode='auto', min_lr=1e-05)             # 모델의 개선이 없을 경우 learning rate를 조절해 모델의 개선을 유도\n",
    "    ]\n",
    ")"
   ]
  },
  {
   "cell_type": "markdown",
   "id": "117ccd75",
   "metadata": {},
   "source": [
    "# Confusion Matrix"
   ]
  },
  {
   "cell_type": "code",
   "execution_count": 7,
   "id": "f19f0300",
   "metadata": {},
   "outputs": [
    {
     "name": "stdout",
     "output_type": "stream",
     "text": [
      "WARNING:tensorflow:From C:\\Users\\User\\anaconda3\\lib\\site-packages\\tensorflow\\python\\ops\\init_ops.py:97: calling GlorotUniform.__init__ (from tensorflow.python.ops.init_ops) with dtype is deprecated and will be removed in a future version.\n",
      "Instructions for updating:\n",
      "Call initializer instance with the dtype argument instead of passing it to the constructor\n",
      "WARNING:tensorflow:From C:\\Users\\User\\anaconda3\\lib\\site-packages\\tensorflow\\python\\ops\\init_ops.py:97: calling Zeros.__init__ (from tensorflow.python.ops.init_ops) with dtype is deprecated and will be removed in a future version.\n",
      "Instructions for updating:\n",
      "Call initializer instance with the dtype argument instead of passing it to the constructor\n"
     ]
    },
    {
     "name": "stderr",
     "output_type": "stream",
     "text": [
      "C:\\Users\\User\\anaconda3\\lib\\site-packages\\ipykernel_launcher.py:7: DeprecationWarning: `np.int` is a deprecated alias for the builtin `int`. To silence this warning, use `int` by itself. Doing this will not modify any behavior and is safe. When replacing `np.int`, you may wish to use e.g. `np.int64` or `np.int32` to specify the precision. If you wish to review your current use, check the release note link for additional information.\n",
      "Deprecated in NumPy 1.20; for more details and guidance: https://numpy.org/devdocs/release/1.20.0-notes.html#deprecations\n",
      "  import sys\n"
     ]
    },
    {
     "name": "stdout",
     "output_type": "stream",
     "text": [
      "test acc: 0.9932203389830508\n"
     ]
    },
    {
     "data": {
      "text/plain": [
       "<AxesSubplot:>"
      ]
     },
     "execution_count": 7,
     "metadata": {},
     "output_type": "execute_result"
    },
    {
     "data": {
      "image/png": "[encoded data removed]",
      "text/plain": [
       "<Figure size 432x288 with 2 Axes>"
      ]
     },
     "metadata": {
      "needs_background": "light"
     },
     "output_type": "display_data"
    }
   ],
   "source": [
    "from sklearn.metrics import accuracy_score, confusion_matrix\n",
    "import seaborn as sns\n",
    "\n",
    "model = keras.models.load_model('../models/%s.h5' % (start_time))\n",
    "\n",
    "y_pred = model.predict(x_val/255.)\n",
    "y_pred_logical = (y_pred > 0.5).astype(np.int)\n",
    "\n",
    "print ('test acc: %s' % accuracy_score(y_val, y_pred_logical))\n",
    "cm = confusion_matrix(y_val, y_pred_logical)\n",
    "sns.heatmap(cm, annot=True)"
   ]
  },
  {
   "cell_type": "markdown",
   "id": "34995af2",
   "metadata": {},
   "source": [
    "# Distribution of Prediction"
   ]
  },
  {
   "cell_type": "code",
   "execution_count": 8,
   "id": "d6cf2b8b",
   "metadata": {},
   "outputs": [
    {
     "name": "stderr",
     "output_type": "stream",
     "text": [
      "C:\\Users\\User\\anaconda3\\lib\\site-packages\\seaborn\\distributions.py:2619: FutureWarning: `distplot` is a deprecated function and will be removed in a future version. Please adapt your code to use either `displot` (a figure-level function with similar flexibility) or `histplot` (an axes-level function for histograms).\n",
      "  warnings.warn(msg, FutureWarning)\n"
     ]
    },
    {
     "data": {
      "image/png": "[encoded data removed]",
      "text/plain": [
       "<Figure size 432x288 with 1 Axes>"
      ]
     },
     "metadata": {
      "needs_background": "light"
     },
     "output_type": "display_data"
    }
   ],
   "source": [
    "ax = sns.distplot(y_pred, kde=False)"
   ]
  },
  {
   "cell_type": "code",
   "execution_count": null,
   "id": "b6ddffac",
   "metadata": {},
   "outputs": [],
   "source": []
  }
 ],
 "metadata": {
  "kernelspec": {
   "display_name": "Python 3 (ipykernel)",
   "language": "python",
   "name": "python3"
  },
  "language_info": {
   "codemirror_mode": {
    "name": "ipython",
    "version": 3
   },
   "file_extension": ".py",
   "mimetype": "text/x-python",
   "name": "python",
   "nbconvert_exporter": "python",
   "pygments_lexer": "ipython3",
   "version": "3.7.11"
  }
 },
 "nbformat": 4,
 "nbformat_minor": 5
}
